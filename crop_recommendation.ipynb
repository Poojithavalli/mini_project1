{
 "cells": [
  {
   "cell_type": "code",
   "execution_count": 4,
   "id": "d186cc74-79e4-4de4-a2c4-4b3d03cecb0c",
   "metadata": {},
   "outputs": [
    {
     "name": "stdout",
     "output_type": "stream",
     "text": [
      "Model Accuracy: 99.55%\n",
      "              precision    recall  f1-score   support\n",
      "\n",
      "       apple       1.00      1.00      1.00        23\n",
      "      banana       1.00      1.00      1.00        21\n",
      "   blackgram       1.00      1.00      1.00        20\n",
      "    chickpea       1.00      1.00      1.00        26\n",
      "     coconut       1.00      1.00      1.00        27\n",
      "      coffee       1.00      1.00      1.00        17\n",
      "      cotton       1.00      1.00      1.00        17\n",
      "      grapes       1.00      1.00      1.00        14\n",
      "        jute       0.92      1.00      0.96        23\n",
      " kidneybeans       1.00      1.00      1.00        20\n",
      "      lentil       1.00      1.00      1.00        11\n",
      "       maize       1.00      1.00      1.00        21\n",
      "       mango       1.00      1.00      1.00        19\n",
      "   mothbeans       1.00      1.00      1.00        24\n",
      "    mungbean       1.00      1.00      1.00        19\n",
      "   muskmelon       1.00      1.00      1.00        17\n",
      "      orange       1.00      1.00      1.00        14\n",
      "      papaya       1.00      1.00      1.00        23\n",
      "  pigeonpeas       1.00      1.00      1.00        23\n",
      " pomegranate       1.00      1.00      1.00        23\n",
      "        rice       1.00      0.89      0.94        19\n",
      "  watermelon       1.00      1.00      1.00        19\n",
      "\n",
      "    accuracy                           1.00       440\n",
      "   macro avg       1.00      1.00      1.00       440\n",
      "weighted avg       1.00      1.00      1.00       440\n",
      "\n"
     ]
    },
    {
     "name": "stdin",
     "output_type": "stream",
     "text": [
      "Enter the Nitrogen content (N):  80\n",
      "Enter the Phosphorus content (P):  60\n",
      "Enter the Potassium content (K):  79\n",
      "Enter the Temperature (in Celsius):  40\n",
      "Enter the Humidity (percentage):  34\n",
      "Enter the pH value of the soil:  7\n",
      "Enter the Rainfall (in mm):  300\n"
     ]
    },
    {
     "name": "stdout",
     "output_type": "stream",
     "text": [
      "\n",
      "The recommended crop for the given conditions is: coffee\n"
     ]
    }
   ],
   "source": [
    "# Import necessary libraries\n",
    "import pandas as pd\n",
    "from sklearn.model_selection import train_test_split\n",
    "from sklearn.naive_bayes import GaussianNB\n",
    "from sklearn.metrics import accuracy_score, classification_report\n",
    "\n",
    "# Load dataset (replace with your actual dataset path)\n",
    "data = pd.read_csv(r\"C:\\Users\\pooji\\OneDrive\\Documents\\crop_recommendation.csv\")\n",
    "\n",
    "# Split dataset into features (X) and target (y)\n",
    "X = data.drop('label', axis=1)  # Features (all columns except 'label')\n",
    "y = data['label']  # Target (crop label)\n",
    "\n",
    "# Split the data into training and testing sets (80% training, 20% testing)\n",
    "X_train, X_test, y_train, y_test = train_test_split(X, y, test_size=0.2, random_state=42)\n",
    "\n",
    "# Initialize the Gaussian Naive Bayes model\n",
    "model = GaussianNB()\n",
    "\n",
    "# Train the model on the training data\n",
    "model.fit(X_train, y_train)\n",
    "\n",
    "# Predict on the test data\n",
    "y_pred = model.predict(X_test)\n",
    "\n",
    "# Check the accuracy of the model\n",
    "accuracy = accuracy_score(y_test, y_pred)\n",
    "print(f\"Model Accuracy: {accuracy * 100:.2f}%\")\n",
    "\n",
    "# Print the classification report for detailed metrics\n",
    "print(classification_report(y_test, y_pred))\n",
    "\n",
    "# Function to take dynamic input from the user\n",
    "def get_user_input():\n",
    "    try:\n",
    "        nitrogen = float(input(\"Enter the Nitrogen content (N): \"))\n",
    "        phosphorus = float(input(\"Enter the Phosphorus content (P): \"))\n",
    "        potassium = float(input(\"Enter the Potassium content (K): \"))\n",
    "        temperature = float(input(\"Enter the Temperature (in Celsius): \"))\n",
    "        humidity = float(input(\"Enter the Humidity (percentage): \"))\n",
    "        pH = float(input(\"Enter the pH value of the soil: \"))\n",
    "        rainfall = float(input(\"Enter the Rainfall (in mm): \"))\n",
    "        \n",
    "        # Create a new DataFrame for user input with the correct feature names\n",
    "        user_data = pd.DataFrame([[nitrogen, phosphorus, potassium, temperature, humidity, pH, rainfall]],\n",
    "                                 columns=['N', 'P', 'K', 'temperature', 'humidity', 'ph', 'rainfall'])\n",
    "        \n",
    "        return user_data\n",
    "    except ValueError:\n",
    "        print(\"Invalid input. Please enter numeric values.\")\n",
    "        return None\n",
    "\n",
    "# Take dynamic input from the user\n",
    "user_data = get_user_input()\n",
    "\n",
    "if user_data is not None:\n",
    "    # Make a prediction using the trained model\n",
    "    predicted_crop = model.predict(user_data)\n",
    "    print(f\"\\nThe recommended crop for the given conditions is: {predicted_crop[0]}\")\n"
   ]
  },
  {
   "cell_type": "code",
   "execution_count": null,
   "id": "88469086-84b0-4d57-bcb9-0f27cef42a7c",
   "metadata": {},
   "outputs": [],
   "source": []
  }
 ],
 "metadata": {
  "kernelspec": {
   "display_name": "Python 3 (ipykernel)",
   "language": "python",
   "name": "python3"
  },
  "language_info": {
   "codemirror_mode": {
    "name": "ipython",
    "version": 3
   },
   "file_extension": ".py",
   "mimetype": "text/x-python",
   "name": "python",
   "nbconvert_exporter": "python",
   "pygments_lexer": "ipython3",
   "version": "3.12.4"
  },
  "widgets": {
   "application/vnd.jupyter.widget-state+json": {
    "state": {},
    "version_major": 2,
    "version_minor": 0
   }
  }
 },
 "nbformat": 4,
 "nbformat_minor": 5
}
